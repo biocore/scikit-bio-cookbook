{
 "metadata": {
  "name": "",
  "signature": "sha256:1b27050aa455dfa17ace3e0712f5e0ecaf1eb3f4c74e1059b7434c5f83565ac7"
 },
 "nbformat": 3,
 "nbformat_minor": 0,
 "worksheets": [
  {
   "cells": [
    {
     "cell_type": "heading",
     "level": 1,
     "metadata": {},
     "source": [
      "Performing six-frame translation on a nucleotide sequence"
     ]
    },
    {
     "cell_type": "markdown",
     "metadata": {},
     "source": [
      "In this recipe we'll explore how to perform six-frame translation on a nucleotide sequence. Briefly, when an unknown DNA sequence is obtained from the environment, there are six possible reading frames for translation. The six reading frames for a DNA sequence start at positions 1, 2, and 3 in the forward orientation and positions 1, 2, and 3 in the reverse orientation.\n",
      "\n",
      "Six-frame translation can be used to find the possible proteins a nucleotide sequence might encode."
     ]
    },
    {
     "cell_type": "markdown",
     "metadata": {},
     "source": [
      "First let's define a single DNA sequence for [cholera toxin](http://www.ncbi.nlm.nih.gov/nuccore/EU828588.1):"
     ]
    },
    {
     "cell_type": "code",
     "collapsed": false,
     "input": [
      "from skbio import DNASequence\n",
      "dna = DNASequence(\"ATGATTAAATTAAAATTTGGTGTTTTTTTTACAGTTTTACTATCTTCAGCATATGCACATGGAACACCTCAAAATATTACTGATTTGTGTGCAGAATACCACAACACACAAATACATACGCTAAATGATAAGATATTGTCGTATACAGAATCTCTAGCTGGAAAAAGAGAGATGGCTATCATTACTTTTAAGAATGGTGCAACTTTTCAAGTAGAAGTACCAGGTAGTCAACATATAGATTCACAAAAAAAAGCGATTGAAAGGATGAAGGATACCCTGAGGATTGCATATCTTACTGAAGCTAAAGTCGAAAAGTTATGTGTATGGAATAATAAAACGCCTCATGCGATTGCCGCAATTAGTATGGCAAATTAAGATATAAAAAAGCCCAC\")\n",
      "dna"
     ],
     "language": "python",
     "metadata": {},
     "outputs": [
      {
       "metadata": {},
       "output_type": "pyout",
       "prompt_number": 1,
       "text": [
        "<DNASequence: ATGATTAAAT... (length: 392)>"
       ]
      }
     ],
     "prompt_number": 1
    },
    {
     "cell_type": "markdown",
     "metadata": {},
     "source": [
      "Since this is a curated sequence from NCBI, let's add 25 random nucleotides to both ends of the sequence to simulate a DNA fragment obtained from the environment (e.g., from shotgun metagenomic sequencing), where we don't know ahead of time what protein it might encode (or if it even does)."
     ]
    },
    {
     "cell_type": "code",
     "collapsed": false,
     "input": [
      "import random\n",
      "def random_dna_seq(n):\n",
      "    return ''.join(random.choice('ACGT') for _ in range(n))"
     ],
     "language": "python",
     "metadata": {},
     "outputs": [],
     "prompt_number": 2
    },
    {
     "cell_type": "code",
     "collapsed": false,
     "input": [
      "random_front = random_dna_seq(25)\n",
      "random_back = random_dna_seq(25)\n",
      "dna = DNASequence(random_front + str(dna) + random_back)\n",
      "dna"
     ],
     "language": "python",
     "metadata": {},
     "outputs": [
      {
       "metadata": {},
       "output_type": "pyout",
       "prompt_number": 3,
       "text": [
        "<DNASequence: AAGTTGGACC... (length: 442)>"
       ]
      }
     ],
     "prompt_number": 3
    },
    {
     "cell_type": "markdown",
     "metadata": {},
     "source": [
      "Next let's create a genetic code object. The default genetic code in scikit-bio is the vertebrate nuclear genetic code, but others exist which contain minor differences (e.g., codons code for different amino acids, or the set of stop codons is slightly different) and can be obtained via the `genetic_code` factory. Since we're going to translate the cholera toxin DNA sequence (produced by the *Vibrio cholerae* bacterium), we'll use NCBI's [Bacterial, Archaeal and Plant Plastid Code](http://www.ncbi.nlm.nih.gov/Taxonomy/Utils/wprintgc.cgi#SG11) (transl_table=11):"
     ]
    },
    {
     "cell_type": "code",
     "collapsed": false,
     "input": [
      "from skbio.sequence import genetic_code\n",
      "gc = genetic_code(11)"
     ],
     "language": "python",
     "metadata": {},
     "outputs": [],
     "prompt_number": 4
    },
    {
     "cell_type": "markdown",
     "metadata": {},
     "source": [
      "To perform six-frame translation of our DNA sequence:"
     ]
    },
    {
     "cell_type": "code",
     "collapsed": false,
     "input": [
      "prot_seqs = gc.translate_six_frames(dna)\n",
      "prot_seqs"
     ],
     "language": "python",
     "metadata": {},
     "outputs": [
      {
       "metadata": {},
       "output_type": "pyout",
       "prompt_number": 5,
       "text": [
        "[<ProteinSequence: KLDHRAHMYD... (length: 147)>,\n",
        " <ProteinSequence: SWTTEHTCMI... (length: 147)>,\n",
        " <ProteinSequence: VGPQSTHV*L... (length: 146)>,\n",
        " <ProteinSequence: SCQRWADPSG... (length: 147)>,\n",
        " <ProteinSequence: AANGGQTLVG... (length: 147)>,\n",
        " <ProteinSequence: LPTVGRP*WA... (length: 146)>]"
       ]
      }
     ],
     "prompt_number": 5
    },
    {
     "cell_type": "markdown",
     "metadata": {},
     "source": [
      "The six protein sequences represent each possible reading frame in the DNA sequence, but start and stop codons are not taken into account, so it may be desirable to find the open reading frames (ORFs) in the translated sequences.\n",
      "\n",
      "First let's see how many stop codons are in each translation (they are denoted by an asterisk):"
     ]
    },
    {
     "cell_type": "code",
     "collapsed": false,
     "input": [
      "for i, seq in enumerate(prot_seqs):\n",
      "    print(\"Sequence %d has %d stop codons.\" % (i + 1, seq.count('*')))"
     ],
     "language": "python",
     "metadata": {},
     "outputs": [
      {
       "output_type": "stream",
       "stream": "stdout",
       "text": [
        "Sequence 1 has 13 stop codons.\n",
        "Sequence 2 has 1 stop codons.\n",
        "Sequence 3 has 9 stop codons.\n",
        "Sequence 4 has 8 stop codons.\n",
        "Sequence 5 has 5 stop codons.\n",
        "Sequence 6 has 11 stop codons.\n"
       ]
      }
     ],
     "prompt_number": 6
    },
    {
     "cell_type": "markdown",
     "metadata": {},
     "source": [
      "The second translated sequence has the fewest stop codons, so this seems a likely candidate for encoding a protein. Let's trim the sequence to include only the ORFs (i.e., the regions between a start and stop codon). This functionality does not yet exist in scikit-bio, though there are plans to rework the genetic code functionality in the near future to make this process easier. For now, let's define a function to find the ORFs in each protein sequence:"
     ]
    },
    {
     "cell_type": "code",
     "collapsed": false,
     "input": [
      "from skbio import ProteinSequence, SequenceCollection\n",
      "def find_orfs(prot_seq):\n",
      "    orfs = []\n",
      "    curr_orf = []\n",
      "    in_orf = False\n",
      "    for c in prot_seq:\n",
      "        if c == 'M':\n",
      "            # start codon\n",
      "            in_orf = True\n",
      "        if in_orf:\n",
      "            if c == '*':\n",
      "                # stop codon\n",
      "                orfs.append(ProteinSequence(curr_orf, id='%d' % (len(orfs) + 1)))\n",
      "                curr_orf = []\n",
      "                in_orf = False\n",
      "            else:\n",
      "                curr_orf.append(c)\n",
      "    return SequenceCollection(orfs)"
     ],
     "language": "python",
     "metadata": {},
     "outputs": [],
     "prompt_number": 7
    },
    {
     "cell_type": "markdown",
     "metadata": {},
     "source": [
      "If we run this function on our candidate translation, we receive a `SequenceCollection` containing a single ORF:"
     ]
    },
    {
     "cell_type": "code",
     "collapsed": false,
     "input": [
      "orfs = find_orfs(prot_seqs[1])\n",
      "orfs"
     ],
     "language": "python",
     "metadata": {},
     "outputs": [
      {
       "metadata": {},
       "output_type": "pyout",
       "prompt_number": 8,
       "text": [
        "<SequenceCollection: n=1; mean +/- std length=124.00 +/- 0.00>"
       ]
      }
     ],
     "prompt_number": 8
    },
    {
     "cell_type": "markdown",
     "metadata": {},
     "source": [
      "Let's inspect the ORF in more detail:"
     ]
    },
    {
     "cell_type": "code",
     "collapsed": false,
     "input": [
      "orfs[0]"
     ],
     "language": "python",
     "metadata": {},
     "outputs": [
      {
       "metadata": {},
       "output_type": "pyout",
       "prompt_number": 9,
       "text": [
        "<ProteinSequence: MIKLKFGVFF... (length: 124)>"
       ]
      }
     ],
     "prompt_number": 9
    },
    {
     "cell_type": "code",
     "collapsed": false,
     "input": [
      "print(orfs[0])"
     ],
     "language": "python",
     "metadata": {},
     "outputs": [
      {
       "output_type": "stream",
       "stream": "stdout",
       "text": [
        "MIKLKFGVFFTVLLSSAYAHGTPQNITDLCAEYHNTQIHTLNDKILSYTESLAGKREMAIITFKNGATFQVEVPGSQHIDSQKKAIERMKDTLRIAYLTEAKVEKLCVWNNKTPHAIAAISMAN\n"
       ]
      }
     ],
     "prompt_number": 10
    },
    {
     "cell_type": "markdown",
     "metadata": {},
     "source": [
      "Note that the sequence starts with M (which represents a start codon) and that the stop codon has been trimmed off. This region seems a likely candidate for a protein given its length."
     ]
    },
    {
     "cell_type": "markdown",
     "metadata": {},
     "source": [
      "A next step could be searching the ORF against a reference database (e.g., by BLASTing them using NCBI's `blastp` tool). In the future, we may add external reference database searching to scikit-bio.\n",
      "\n",
      "Six-frame translation is just one of many ways to identify regions of nucleotide sequences that may encode proteins (e.g., you could instead search for codons that occur frequently throughout an organism's genome as a way to infer whether a DNA fragment might encode a protein)."
     ]
    }
   ],
   "metadata": {}
  }
 ]
}