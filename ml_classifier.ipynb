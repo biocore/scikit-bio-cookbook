{
 "cells": [
  {
   "cell_type": "code",
   "execution_count": 1,
   "metadata": {
    "collapsed": false
   },
   "outputs": [
    {
     "name": "stdout",
     "output_type": "stream",
     "text": [
      "hello world!\n"
     ]
    }
   ],
   "source": [
    "print('hello world!')"
   ]
  },
  {
   "cell_type": "code",
   "execution_count": 2,
   "metadata": {
    "collapsed": false
   },
   "outputs": [
    {
     "name": "stdout",
     "output_type": "stream",
     "text": [
      "Populating the interactive namespace from numpy and matplotlib\n"
     ]
    }
   ],
   "source": [
    "%pylab inline\n",
    "\n",
    "from __future__ import print_function\n",
    "\n",
    "import skbio\n",
    "from sklearn.feature_extraction import DictVectorizer\n",
    "from skbio import Sequence\n",
    "from collections import Counter\n",
    "import numpy as np\n",
    "from sklearn import datasets\n",
    "from skbio import DNA\n",
    "from sklearn.cross_validation import train_test_split\n",
    "from sklearn.grid_search import GridSearchCV\n",
    "from sklearn.metrics import classification_report\n",
    "from sklearn.svm import SVC\n",
    "from sklearn.metrics import confusion_matrix\n",
    "import matplotlib.pyplot as plt\n"
   ]
  },
  {
   "cell_type": "code",
   "execution_count": 5,
   "metadata": {
    "collapsed": true
   },
   "outputs": [],
   "source": [
    "percent_id = 73\n",
    "\n",
    "unaligned_ref_fp = 'gg_13_8_otus/rep_set/%d_otus.fasta' % percent_id\n",
    "aligned_ref_fp = 'gg_13_8_otus/rep_set_aligned/%d_otus.fasta' % percent_id\n",
    "tax_ref_fp = 'gg_13_8_otus/taxonomy/%d_otu_taxonomy.txt' % percent_id"
   ]
  },
  {
   "cell_type": "code",
   "execution_count": 7,
   "metadata": {
    "collapsed": true
   },
   "outputs": [],
   "source": [
    "def plot_confusion_matrix(cm, title='Confusion matrix', cmap=plt.cm.Blues):\n",
    "    plt.imshow(cm, interpolation='nearest', cmap=cmap)\n",
    "    plt.title(title)\n",
    "    plt.colorbar()\n",
    "    plt.tight_layout()\n",
    "    plt.ylabel('True label')\n",
    "    plt.xlabel('Predicted label')"
   ]
  },
  {
   "cell_type": "code",
   "execution_count": 9,
   "metadata": {
    "collapsed": false
   },
   "outputs": [],
   "source": [
    "fwd_primer = DNA(\"GTGCCAGCMGCCGCGGTAA\", {'label':'fwd-primer'})\n",
    "rev_primer = DNA(\"GGACTACHVGGGTWTCTAAT\", {'label':'rev-primer'}).reverse_complement()"
   ]
  },
  {
   "cell_type": "code",
   "execution_count": 10,
   "metadata": {
    "collapsed": false
   },
   "outputs": [
    {
     "name": "stdout",
     "output_type": "stream",
     "text": [
      "(GTGCCAGC[AC]GCCGCGGTAA.*ATTAGA[AT]ACCC[CTG][ATG]GTAGTCC)\n"
     ]
    }
   ],
   "source": [
    "result = []\n",
    "for c in fwd_primer:\n",
    "    try:\n",
    "        result.append('[%s]' % ''.join(DNA.degenerate_map[str(c)]))\n",
    "    except KeyError:\n",
    "        result.append(str(c))\n",
    "result.append('.*')\n",
    "for c in rev_primer:\n",
    "    try:\n",
    "        result.append('[%s]' % ''.join(DNA.degenerate_map[str(c)]))\n",
    "    except KeyError:\n",
    "        result.append(str(c))\n",
    "        \n",
    "regex = '(%s)' % ''.join(result)\n",
    "print(regex)"
   ]
  },
  {
   "cell_type": "code",
   "execution_count": 11,
   "metadata": {
    "collapsed": false
   },
   "outputs": [
    {
     "name": "stdout",
     "output_type": "stream",
     "text": [
      "267 74\n"
     ]
    }
   ],
   "source": [
    "seq_count = 0\n",
    "trimmed_seqs = []\n",
    "\n",
    "for seq in skbio.io.read(unaligned_ref_fp, format='fasta'):\n",
    "    seq_count += 1\n",
    "    for i in seq.find_with_regex(regex):\n",
    "        trimmed_seqs.append(seq[i])\n",
    "print(seq_count, len(trimmed_seqs))"
   ]
  },
  {
   "cell_type": "markdown",
   "metadata": {},
   "source": [
    "The above matches a lot of the sequences, but misses many of them because we're still doing an exact match search (even though several different sequences can match). "
   ]
  },
  {
   "cell_type": "code",
   "execution_count": 12,
   "metadata": {
    "collapsed": false
   },
   "outputs": [
    {
     "name": "stdout",
     "output_type": "stream",
     "text": [
      "267 0\n",
      "2227\n",
      "2227.0\n",
      "2227\n",
      "4090\n",
      "4090.0\n",
      "4090\n"
     ]
    }
   ],
   "source": [
    "seq_count = 0\n",
    "trimmed_seqs = []\n",
    "starts = []\n",
    "stops = []\n",
    "\n",
    "# how do we tell read to read into DNA sequence objects so we have access to gaps()\n",
    "for seq in skbio.io.read(aligned_ref_fp, format='fasta'):\n",
    "    seq = DNA(seq)\n",
    "    seq_count += 1\n",
    "    for i in seq.find_with_regex(regex, ignore=seq.gaps()):\n",
    "        starts.append(i.start)\n",
    "        stops.append(i.stop)\n",
    "        \n",
    "print(seq_count, len(trimmed_seqs))\n",
    "print(min(starts))\n",
    "print(mean(starts))\n",
    "print(max(starts))\n",
    "print(min(stops))\n",
    "print(mean(stops))\n",
    "print(max(stops))"
   ]
  },
  {
   "cell_type": "code",
   "execution_count": 13,
   "metadata": {
    "collapsed": false
   },
   "outputs": [
    {
     "name": "stdout",
     "output_type": "stream",
     "text": [
      "2227.0 4090.0\n"
     ]
    }
   ],
   "source": [
    "mean_start = round(mean(starts))\n",
    "mean_stop = round(mean(stops))\n",
    "print(mean_start, mean_stop)"
   ]
  },
  {
   "cell_type": "markdown",
   "metadata": {},
   "source": [
    "Since the min, mean, and max for start and stop are so close, we can just use the means to slice all of the aligned sequences, then degap them, and then train the classifier on those sequences instead of the full-length sequences. "
   ]
  },
  {
   "cell_type": "markdown",
   "metadata": {},
   "source": [
    "So now we get the kmer counts from our sequence region of interest for all of our input sequences (not just the ones where we had an exact primer match)."
   ]
  },
  {
   "cell_type": "code",
   "execution_count": 14,
   "metadata": {
    "collapsed": false
   },
   "outputs": [],
   "source": [
    "kmer_counts = []\n",
    "seq_ids = []\n",
    "\n",
    "for seq in skbio.io.read(aligned_ref_fp, format='fasta'):\n",
    "    seq_ids.append(seq.metadata['id'])\n",
    "    sliced_seq = DNA(seq[mean_start:mean_stop]).degap()\n",
    "    sliced_kmer_frequencies = sliced_seq.kmer_frequencies(8)\n",
    "    kmer_counts.append(dict(sliced_kmer_frequencies))"
   ]
  },
  {
   "cell_type": "code",
   "execution_count": 15,
   "metadata": {
    "collapsed": false
   },
   "outputs": [],
   "source": [
    "v = DictVectorizer(sparse=False)\n",
    "D = kmer_counts\n",
    "X = v.fit_transform(D)\n"
   ]
  },
  {
   "cell_type": "code",
   "execution_count": 16,
   "metadata": {
    "collapsed": false
   },
   "outputs": [],
   "source": [
    "taxa_dic = {}\n",
    "with open(tax_ref_fp) as f:\n",
    "    for line in f:\n",
    "       (key, val) = line.strip().split('\\t')\n",
    "       taxa_dic[key] = val.split('; ')\n",
    "        \n",
    "    "
   ]
  },
  {
   "cell_type": "code",
   "execution_count": 25,
   "metadata": {
    "collapsed": false
   },
   "outputs": [],
   "source": [
    "y = np.array([taxa_dic[seq_id][0] for seq_id in seq_ids])"
   ]
  },
  {
   "cell_type": "code",
   "execution_count": 26,
   "metadata": {
    "collapsed": false
   },
   "outputs": [
    {
     "name": "stdout",
     "output_type": "stream",
     "text": [
      "(267,)\n",
      "(267, 25289)\n"
     ]
    }
   ],
   "source": [
    "print(y.shape)\n",
    "print(X.shape)"
   ]
  },
  {
   "cell_type": "code",
   "execution_count": 27,
   "metadata": {
    "collapsed": false
   },
   "outputs": [
    {
     "name": "stdout",
     "output_type": "stream",
     "text": [
      "# Tuning hyper-parameters for precision\n",
      "\n",
      "Best parameters set found on development set:\n",
      "\n",
      "{'kernel': 'rbf', 'C': 100, 'gamma': 0.0001}\n",
      "\n",
      "Grid scores on development set:\n",
      "\n",
      "0.801 (+/-0.045) for {'kernel': 'rbf', 'C': 1, 'gamma': 0.001}\n",
      "0.801 (+/-0.045) for {'kernel': 'rbf', 'C': 1, 'gamma': 0.0001}\n",
      "0.922 (+/-0.135) for {'kernel': 'rbf', 'C': 10, 'gamma': 0.001}\n",
      "0.829 (+/-0.111) for {'kernel': 'rbf', 'C': 10, 'gamma': 0.0001}\n",
      "0.922 (+/-0.135) for {'kernel': 'rbf', 'C': 100, 'gamma': 0.001}\n",
      "0.964 (+/-0.043) for {'kernel': 'rbf', 'C': 100, 'gamma': 0.0001}\n",
      "0.964 (+/-0.043) for {'kernel': 'linear', 'C': 1}\n",
      "0.964 (+/-0.043) for {'kernel': 'linear', 'C': 10}\n",
      "0.964 (+/-0.043) for {'kernel': 'linear', 'C': 100}\n",
      "\n",
      "Detailed classification report:\n",
      "\n",
      "The model is trained on the full development set.\n",
      "The scores are computed on the full evaluation set.\n",
      "\n",
      "             precision    recall  f1-score   support\n",
      "\n",
      " k__Archaea       1.00      0.71      0.83        21\n",
      "k__Bacteria       0.95      1.00      0.97       113\n",
      "\n",
      "avg / total       0.96      0.96      0.95       134\n",
      "\n",
      "\n",
      "# Tuning hyper-parameters for recall\n",
      "\n",
      "Best parameters set found on development set:\n",
      "\n",
      "{'kernel': 'rbf', 'C': 100, 'gamma': 0.0001}\n",
      "\n",
      "Grid scores on development set:\n",
      "\n",
      "0.895 (+/-0.025) for {'kernel': 'rbf', 'C': 1, 'gamma': 0.001}\n",
      "0.895 (+/-0.025) for {'kernel': 'rbf', 'C': 1, 'gamma': 0.0001}\n",
      "0.940 (+/-0.058) for {'kernel': 'rbf', 'C': 10, 'gamma': 0.001}\n",
      "0.902 (+/-0.034) for {'kernel': 'rbf', 'C': 10, 'gamma': 0.0001}\n",
      "0.940 (+/-0.058) for {'kernel': 'rbf', 'C': 100, 'gamma': 0.001}\n",
      "0.962 (+/-0.047) for {'kernel': 'rbf', 'C': 100, 'gamma': 0.0001}\n",
      "0.962 (+/-0.047) for {'kernel': 'linear', 'C': 1}\n",
      "0.962 (+/-0.047) for {'kernel': 'linear', 'C': 10}\n",
      "0.962 (+/-0.047) for {'kernel': 'linear', 'C': 100}\n",
      "\n",
      "Detailed classification report:\n",
      "\n",
      "The model is trained on the full development set.\n",
      "The scores are computed on the full evaluation set.\n",
      "\n",
      "             precision    recall  f1-score   support\n",
      "\n",
      " k__Archaea       1.00      0.71      0.83        21\n",
      "k__Bacteria       0.95      1.00      0.97       113\n",
      "\n",
      "avg / total       0.96      0.96      0.95       134\n",
      "\n",
      "\n"
     ]
    }
   ],
   "source": [
    "\n",
    "# Split the dataset in two equal parts\n",
    "X_train, X_test, y_train, y_test = train_test_split(\n",
    "    X, y, test_size=0.5, random_state=0)\n",
    "\n",
    "# Set the parameters by cross-validation\n",
    "tuned_parameters = [{'kernel': ['rbf'], 'gamma': [1e-3, 1e-4],\n",
    "                     'C': [1, 10, 100]},\n",
    "                    {'kernel': ['linear'], 'C': [1, 10, 100]}]\n",
    "\n",
    "scores = ['precision', 'recall']\n",
    "\n",
    "for score in scores:\n",
    "    print(\"# Tuning hyper-parameters for %s\" % score)\n",
    "    print()\n",
    "\n",
    "    clf = GridSearchCV(SVC(C=1), tuned_parameters, cv=5,\n",
    "                       scoring='%s_weighted' % score, n_jobs=5)\n",
    "    clf.fit(X_train, y_train)\n",
    "\n",
    "    print(\"Best parameters set found on development set:\")\n",
    "    print()\n",
    "    print(clf.best_params_)\n",
    "    print()\n",
    "    print(\"Grid scores on development set:\")\n",
    "    print()\n",
    "    for params, mean_score, scores in clf.grid_scores_:\n",
    "        print(\"%0.3f (+/-%0.03f) for %r\"\n",
    "              % (mean_score, scores.std() * 2, params))\n",
    "    print()\n",
    "\n",
    "    print(\"Detailed classification report:\")\n",
    "    print()\n",
    "    print(\"The model is trained on the full development set.\")\n",
    "    print(\"The scores are computed on the full evaluation set.\")\n",
    "    print()\n",
    "    y_true, y_pred = y_test, clf.predict(X_test)\n",
    "    print(classification_report(y_true, y_pred))\n",
    "    print()"
   ]
  },
  {
   "cell_type": "code",
   "execution_count": 28,
   "metadata": {
    "collapsed": false
   },
   "outputs": [
    {
     "name": "stdout",
     "output_type": "stream",
     "text": [
      "Confusion matrix, without normalization\n",
      "[[ 15   6]\n",
      " [  0 113]]\n"
     ]
    },
    {
     "data": {
      "image/png": "[encoded data removed]",
      "text/plain": [
       "<matplotlib.figure.Figure at 0x10d800d50>"
      ]
     },
     "metadata": {},
     "output_type": "display_data"
    }
   ],
   "source": [
    "cm = confusion_matrix(y_test, y_pred)\n",
    "np.set_printoptions(precision=2)\n",
    "print('Confusion matrix, without normalization')\n",
    "print(cm)\n",
    "plt.figure()\n",
    "plot_confusion_matrix(cm)"
   ]
  },
  {
   "cell_type": "code",
   "execution_count": null,
   "metadata": {
    "collapsed": true
   },
   "outputs": [],
   "source": []
  },
  {
   "cell_type": "code",
   "execution_count": null,
   "metadata": {
    "collapsed": true
   },
   "outputs": [],
   "source": []
  }
 ],
 "metadata": {
  "kernelspec": {
   "display_name": "Python 2",
   "language": "python",
   "name": "python2"
  },
  "language_info": {
   "codemirror_mode": {
    "name": "ipython",
    "version": 2
   },
   "file_extension": ".py",
   "mimetype": "text/x-python",
   "name": "python",
   "nbconvert_exporter": "python",
   "pygments_lexer": "ipython2",
   "version": "2.7.6"
  }
 },
 "nbformat": 4,
 "nbformat_minor": 0
}
