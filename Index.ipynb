{
 "cells": [
  {
   "cell_type": "markdown",
   "metadata": {},
   "source": [
    "# The [scikit-bio](http://scikit-bio.org) cookbook: delicious and nutritious bioinformatics recipes"
   ]
  },
  {
   "cell_type": "markdown",
   "metadata": {},
   "source": [
    "<a href=\"https://github.com/biocore/scikit-bio-cookbook\"><img style=\"position: absolute; top: 42px; right: 0; border: 0;\" src=\"https://camo.githubusercontent.com/e7bbb0521b397edbd5fe43e7f760759336b5e05f/68747470733a2f2f73332e616d617a6f6e6177732e636f6d2f6769746875622f726962626f6e732f666f726b6d655f72696768745f677265656e5f3030373230302e706e67\" alt=\"Fork me on GitHub\" data-canonical-src=\"https://s3.amazonaws.com/github/ribbons/forkme_right_green_007200.png\"></a>\n",
    "\n",
    "<div style=\"float: right; margin-left: 30px;\"><img title=\"scikit-bio cookbook\" style=\"float: right;margin-left: 30px;\" src=\"assets/skbio-cookbook.png\" align=right height=300/></div>\n",
    "\n",
    "This series of IPython Notebooks contains executable \"recipes\" for bioinformatics workflows using [scikit-bio](http://scikit-bio.org).\n",
    "\n",
    "**This is not the main scikit-bio documentation.** You can find the latest scikit-bio API documentation [here](http://scikit-bio.org/docs/latest/). These notebooks are only tested to work with the latest scikit-bio release: they may not work with older versions of scikit-bio.\n",
    "\n",
    "Readers interested in gaining more background information on bioinformatics may want to start with [An Introduction to Applied Bioinformatics](http://applied-bioinformatics.org), which makes extensive use of scikit-bio to teach concepts in bioinformatics.\n"
   ]
  },
  {
   "cell_type": "markdown",
   "metadata": {},
   "source": [
    "## Reading the scikit-bio cookbook"
   ]
  },
  {
   "cell_type": "markdown",
   "metadata": {},
   "source": [
    "There are two ways to read the scikit-bio cookbook. \n",
    "\n",
    "The **easiest way** is to read the static online version, [available here](http://nbviewer.ipython.org/github/biocore/scikit-bio-cookbook/blob/master/Index.ipynb).\n",
    "\n",
    "The **recommended way** is to install the interactive version, and read it locally. This will let you exectute and experiment with the recipes from within your web browser. To view and interact with the notebooks, you'll need the latest scikit-bio release and IPython installed. The easiest way to install these dependencies is:\n",
    "\n",
    "    pip install scikit-bio ipython[notebook]\n",
    "\n",
    "Next, you'll need to download the scikit-bio cookbook. We recommend pulling the latest version from github (you may need to install ``git`` first), and then changing to the new directory that is created. Do this as follows:\n",
    "\n",
    "    git clone https://github.com/biocore/scikit-bio-cookbook.git\n",
    "    cd scikit-bio-cookbook\n",
    "\n",
    "Finally, to start the IPython Notebook server, run:\n",
    "\n",
    "    ipython notebook Index.ipynb"
   ]
  },
  {
   "cell_type": "code",
   "execution_count": 1,
   "metadata": {
    "collapsed": false,
    "scrolled": true
   },
   "outputs": [
    {
     "data": {
      "text/html": [
       "<h2>Table of Contents</h2><p>\n",
       "<li><a href='Alignment viewing and filtering.ipynb'  target='_blank'>Alignment viewing and filtering</a></li>\n",
       "<li><a href='Alignments and phylogenetic reconstruction.ipynb'  target='_blank'>Alignments and phylogenetic reconstruction</a></li>\n",
       "<li><a href='Building a machine-learning-based taxonomic classifier.ipynb'  target='_blank'>Building a machine-learning-based taxonomic classifier</a></li>\n",
       "<li><a href='Computing pairwise sequence identity.ipynb'  target='_blank'>Computing pairwise sequence identity</a></li>\n",
       "<li><a href='Creating a region-specific reference collection from full-length reference sequences.ipynb'  target='_blank'>Creating a region-specific reference collection from full-length reference sequences</a></li>\n",
       "<li><a href='Exploring microbial community diversity.ipynb'  target='_blank'>Exploring microbial community diversity</a></li>\n",
       "<li><a href='Finding PCR primers in sequencing products.ipynb'  target='_blank'>Finding PCR primers in sequencing products</a></li>\n",
       "<li><a href='Finding the longest stretch of specific characters in a BiologicalSequence.ipynb'  target='_blank'>Finding the longest stretch of specific characters in a BiologicalSequence</a></li>\n",
       "<li><a href='Phylogenetic diversity calculations.ipynb'  target='_blank'>Phylogenetic diversity calculations</a></li>\n",
       "<li><a href='Progressive multiple sequence alignment.ipynb'  target='_blank'>Progressive multiple sequence alignment</a></li>\n",
       "<li><a href='Reading and writing files.ipynb'  target='_blank'>Reading and writing files</a></li>\n",
       "<li><a href='Six-frame translation of NucleotideSequences.ipynb'  target='_blank'>Six-frame translation of NucleotideSequences</a></li>\n",
       "<li><a href='Using the workflow to automate remote database queries.ipynb'  target='_blank'>Using the workflow to automate remote database queries</a></li>"
      ],
      "text/plain": [
       "<IPython.core.display.HTML object>"
      ]
     },
     "execution_count": 1,
     "metadata": {},
     "output_type": "execute_result"
    }
   ],
   "source": [
    "from skbiocookbook import cookbook_toc\n",
    "from IPython.display import HTML\n",
    "HTML(cookbook_toc())"
   ]
  },
  {
   "cell_type": "markdown",
   "metadata": {},
   "source": [
    "<img title=\"Powered by scikit-bio!\" src=\"https://raw.githubusercontent.com/biocore/scikit-bio/master/assets/horizontal_powered_by.png\" align=center height=50/>\n"
   ]
  }
 ],
 "metadata": {
  "kernelspec": {
   "display_name": "Python 2",
   "language": "python",
   "name": "python2"
  },
  "language_info": {
   "codemirror_mode": {
    "name": "ipython",
    "version": 2
   },
   "file_extension": ".py",
   "mimetype": "text/x-python",
   "name": "python",
   "nbconvert_exporter": "python",
   "pygments_lexer": "ipython2",
   "version": "2.7.10"
  }
 },
 "nbformat": 4,
 "nbformat_minor": 0
}
