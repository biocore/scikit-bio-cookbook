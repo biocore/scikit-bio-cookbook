{
 "metadata": {
  "name": "",
  "signature": "sha256:1fbc476ba8e895d35f02b747837181ea69c276e01a8f51d2ef23ec9439695486"
 },
 "nbformat": 3,
 "nbformat_minor": 0,
 "worksheets": [
  {
   "cells": [
    {
     "cell_type": "heading",
     "level": 1,
     "metadata": {},
     "source": [
      "The [scikit-bio](http://scikit-bio.org) cookbook: delicious and nutritious bioinformatics recipes"
     ]
    },
    {
     "cell_type": "markdown",
     "metadata": {},
     "source": [
      "<a href=\"https://github.com/biocore/scikit-bio-cookbook\"><img style=\"position: absolute; top: 42px; right: 0; border: 0;\" src=\"https://camo.githubusercontent.com/e7bbb0521b397edbd5fe43e7f760759336b5e05f/68747470733a2f2f73332e616d617a6f6e6177732e636f6d2f6769746875622f726962626f6e732f666f726b6d655f72696768745f677265656e5f3030373230302e706e67\" alt=\"Fork me on GitHub\" data-canonical-src=\"https://s3.amazonaws.com/github/ribbons/forkme_right_green_007200.png\"></a>\n",
      "\n",
      "<div style=\"float: right; margin-left: 30px;\"><img title=\"scikit-bio cookbook\" style=\"float: right;margin-left: 30px;\" src=\"assets/skbio-cookbook.png\" align=right height=300/></div>\n",
      "\n",
      "This series of IPython Notebooks contains executable \"recipes\" for bioinformatics workflows using [scikit-bio](http://scikit-bio.org).\n",
      "\n",
      "**This is not the main scikit-bio documentation.** You can find the latest scikit-bio API documentation [here](http://scikit-bio.org/docs/latest/). These notebooks are only tested to work with the latest scikit-bio release: they may not work with older versions of scikit-bio, and definitely will not work with scikit-bio versions prior to 0.2.0.\n",
      "\n",
      "Readers interested in gaining more background information on bioinformatics may want to start with [An Introduction to Applied Bioinformatics](http://applied-bioinformatics.org), which makes extensive use of scikit-bio to teach concepts in bioinformatics.\n"
     ]
    },
    {
     "cell_type": "heading",
     "level": 2,
     "metadata": {},
     "source": [
      "Reading the scikit-bio cookbook"
     ]
    },
    {
     "cell_type": "markdown",
     "metadata": {},
     "source": [
      "There are two ways to read the scikit-bio cookbook. \n",
      "\n",
      "The **easiest way** is to read the static online version, [available here](http://nbviewer.ipython.org/github/biocore/scikit-bio-cookbook/blob/master/Index.ipynb).\n",
      "\n",
      "The **recommended way** is to install the interactive version, and read it locally. This will let you exectute and experiment with the recipes from within your web browser. To view and interact with the notebooks, you'll need the latest scikit-bio release and IPython installed. The easiest way to install these dependencies is:\n",
      "\n",
      "    pip install numpy\n",
      "    pip install scikit-bio IPython[all]\n",
      "\n",
      "Next, you'll need to download the scikit-bio cookbook. We recommend pulling the latest version from github (you may need to install ``git`` first), and then changing to the new directory that is created. Do this as follows:\n",
      "\n",
      "    git clone https://github.com/biocore/scikit-bio-cookbook.git\n",
      "    cd scikit-bio-cookbook\n",
      "\n",
      "Finally, to start the IPython Notebook server, run:\n",
      "\n",
      "    ipython notebook Index.ipynb"
     ]
    },
    {
     "cell_type": "heading",
     "level": 2,
     "metadata": {},
     "source": [
      "Table of Contents"
     ]
    },
    {
     "cell_type": "markdown",
     "metadata": {},
     "source": [
      "\n",
      " * [Alignment visualization and filtering](alignment-viewing-and-filtering.ipynb)\n",
      " * [Computing pairwise sequence identity](Computing pairwise sequence identity.ipynb)\n",
      " * [Creating a region-specific reference collection from full-length reference sequences](Creating a region-specific reference collection from full-length reference sequences.ipynb)\n",
      " * [Finding PCR primers in sequencing products](Finding PCR primers in sequencing products.ipynb)\n",
      " * [Finding the longest stretch of specific characters in a BiologicalSequence](Finding the longest stretch of specific characters in a BiologicalSequence.ipynb)\n",
      " * [Performing six-frame translation on a nucleotide sequence](six-frame-translation.ipynb)\n",
      " * [Progressive multiple sequence alignment](Progressive multiple sequence alignment.ipynb)\n",
      " * [Working with protein alignments and phylogenetic reconstruction with neighbor joining](alignments-and-phylogenetic-reconstruction.ipynb)"
     ]
    },
    {
     "cell_type": "markdown",
     "metadata": {},
     "source": [
      "<img title=\"Powered by scikit-bio!\" src=\"https://raw.githubusercontent.com/biocore/scikit-bio/master/assets/horizontal_powered_by.png\" align=center height=50/>\n"
     ]
    }
   ],
   "metadata": {}
  }
 ]
}